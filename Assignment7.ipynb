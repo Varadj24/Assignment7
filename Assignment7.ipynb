{
 "cells": [
  {
   "cell_type": "code",
   "execution_count": 1,
   "id": "000f82ee-7c03-46f5-a019-8ced3bed4460",
   "metadata": {},
   "outputs": [],
   "source": [
    "#Q1.What is an Exception in python? Write the difference between Exceptions and syntax errors"
   ]
  },
  {
   "cell_type": "code",
   "execution_count": null,
   "id": "1a3be482-40b7-463d-b468-b59d8b72e403",
   "metadata": {},
   "outputs": [],
   "source": [
    "'''An exception in Python is an event that occurs during the execution of a program,\n",
    "leading to the disruption of the normal flow of the program. \n",
    "When an exception occurs, the Python interpreter raises an exception object that contains \n",
    "information about the error. This allows you to handle unexpected situations\n",
    "gracefully and prevent your program from crashing.'''\n",
    "\n",
    "'''difference between Exceptions and syntax errors'''\n",
    "#1) Exceptions -\n",
    "'''A) Encompass a wide range of runtime errors that can occur \n",
    "during program execution. These errors are caused by various \n",
    "reasons such as invalid input, unexpected conditions, or logical mistakes in the code.\n",
    "B) Exceptions are typically caused by issues that arise while a program is running. \n",
    "These can include things like attempting to access an undefined variable,\n",
    "dividing by zero, or trying to open a file that doesn't exist.\n",
    "C) Exceptions are detected during runtime, when the problematic code is being executed.'''\n",
    "\n",
    "#2) Syntax errors :-\n",
    "'''A)Syntax errors occur due to incorrect syntax or structure in the code. \n",
    "They are detected by the Python interpreter during the parsing phase before the code is executed.\n",
    "B)Syntax errors result from mistakes in the way the code is written, such as missing colons, \n",
    "mismatched parentheses, or invalid indentation.\n",
    "C) Syntax errors result from mistakes in the way the code is written, \n",
    "such as missing colons, mismatched parentheses, or invalid indentation."
   ]
  },
  {
   "cell_type": "code",
   "execution_count": null,
   "id": "55804d67-0ad4-4324-8553-c7c5bf15c027",
   "metadata": {},
   "outputs": [],
   "source": []
  },
  {
   "cell_type": "code",
   "execution_count": 2,
   "id": "cc9686d0-909d-4b1a-962e-a94f02eeb927",
   "metadata": {},
   "outputs": [],
   "source": [
    "#Q2.what happes whwn an exception is not handled ? Explain with an example"
   ]
  },
  {
   "cell_type": "code",
   "execution_count": 7,
   "id": "8721029e-e86e-49f6-9112-9b1962678da4",
   "metadata": {},
   "outputs": [
    {
     "ename": "SyntaxError",
     "evalue": "invalid syntax (2561072794.py, line 14)",
     "output_type": "error",
     "traceback": [
      "\u001b[0;36m  Cell \u001b[0;32mIn[7], line 14\u001b[0;36m\u001b[0m\n\u001b[0;31m    Enter a number: abc\u001b[0m\n\u001b[0m          ^\u001b[0m\n\u001b[0;31mSyntaxError\u001b[0m\u001b[0;31m:\u001b[0m invalid syntax\n"
     ]
    }
   ],
   "source": [
    "'''When an exception is not handled in a Python program, \n",
    "it leads to the termination of the program's normal execution flow \n",
    "and causes an error message to be displayed. The error message provides \n",
    "information about the type of exception that occurred and the location in the code where it happened. \n",
    "This abrupt termination without proper handling can result in an undesirable user experience and potentially crash the program.'''\n",
    "\n",
    "#Example:-\n",
    "    \n",
    "Enter a number: abc\n",
    "Traceback (most recent call last):\n",
    "  File \"example.py\", line 3, in <module>\n",
    "    num = int(input(\"Enter a number: \"))\n",
    "ValueError: invalid literal for int() with base 10: 'abc'\n"
   ]
  },
  {
   "cell_type": "code",
   "execution_count": null,
   "id": "b43e54f7-87d8-44e3-abf8-0b8f684dfcec",
   "metadata": {},
   "outputs": [],
   "source": []
  },
  {
   "cell_type": "code",
   "execution_count": 8,
   "id": "207d631b-bdc7-4aba-8804-f4b6c9226a7d",
   "metadata": {},
   "outputs": [],
   "source": [
    "#Q3.which python statement are used to catch and handle exception?Explain with an example"
   ]
  },
  {
   "cell_type": "code",
   "execution_count": 10,
   "id": "c9ca2761-6666-4dec-8be0-187946b972b5",
   "metadata": {},
   "outputs": [
    {
     "name": "stdin",
     "output_type": "stream",
     "text": [
      "Enter a number:  50\n"
     ]
    },
    {
     "name": "stdout",
     "output_type": "stream",
     "text": [
      "Result: 0.2\n"
     ]
    }
   ],
   "source": [
    "try:\n",
    "    num = int(input(\"Enter a number: \"))\n",
    "    result = 10 / num\n",
    "    print(\"Result:\", result)\n",
    "except ValueError:\n",
    "    print(\"Invalid input. Please enter a valid number.\")\n",
    "except ZeroDivisionError:\n",
    "    print(\"Cannot divide by zero.\")\n",
    "except Exception as e:\n",
    "    print(\"An error occurred:\", e)\n"
   ]
  },
  {
   "cell_type": "code",
   "execution_count": null,
   "id": "f7da935c-19c1-4023-ab79-819cf8d36ecc",
   "metadata": {},
   "outputs": [],
   "source": []
  },
  {
   "cell_type": "code",
   "execution_count": 12,
   "id": "62e34421-7be4-4f40-8896-125d6577125f",
   "metadata": {},
   "outputs": [],
   "source": [
    "#Q4.Explain with an exmple:\n",
    "# a.try and else\n",
    "#b.finally\n",
    "#.raise "
   ]
  },
  {
   "cell_type": "code",
   "execution_count": 13,
   "id": "94538048-c711-4389-8683-1c4d44ee25a3",
   "metadata": {},
   "outputs": [
    {
     "name": "stdout",
     "output_type": "stream",
     "text": [
      "Result: 5.0\n"
     ]
    }
   ],
   "source": [
    "#try and else  and also finally and raise:-\n",
    "\n",
    "def divide(a, b):\n",
    "    if b == 0:\n",
    "        raise ZeroDivisionError(\"Cannot divide by zero\")\n",
    "    return a / b\n",
    "\n",
    "try:\n",
    "    result = divide(10, 2)\n",
    "    print(\"Result:\", result)\n",
    "except ZeroDivisionError as e:\n",
    "    print(\"Error:\", e)"
   ]
  },
  {
   "cell_type": "code",
   "execution_count": null,
   "id": "17cb0796-144a-4f17-857e-4441b38c6296",
   "metadata": {},
   "outputs": [],
   "source": []
  },
  {
   "cell_type": "code",
   "execution_count": 14,
   "id": "68bef198-3284-46e3-9c4f-d22f454ac3c6",
   "metadata": {},
   "outputs": [],
   "source": [
    "#Q5.what are custom exception in python? why do we need custom exception ? explain with an exmaple"
   ]
  },
  {
   "cell_type": "code",
   "execution_count": null,
   "id": "fd2b4684-5dfc-4d3e-beaa-7d56477588d6",
   "metadata": {},
   "outputs": [],
   "source": [
    "'''Custom exceptions in Python are user-defined exception classes that you create to represent specific error \n",
    "conditions in your code. They allow you to define and raise exceptions that are tailored to your \n",
    "application's requirements, providing more meaningful error messages and better organization of error \n",
    "handling logic. Custom exceptions enhance code readability and help in separating different types of errors,\n",
    "making your codebase more maintainable.'''"
   ]
  },
  {
   "cell_type": "code",
   "execution_count": 15,
   "id": "fbb67c23-142a-4dc3-9ead-f5670bb9ca93",
   "metadata": {},
   "outputs": [
    {
     "name": "stdout",
     "output_type": "stream",
     "text": [
      "Error: Insufficient funds. Current balance: 1000, Withdrawal amount: 1500\n"
     ]
    }
   ],
   "source": [
    "class InsufficientFundsError(Exception):\n",
    "    def __init__(self, balance, amount):\n",
    "        self.balance = balance\n",
    "        self.amount = amount\n",
    "        self.message = f\"Insufficient funds. Current balance: {balance}, Withdrawal amount: {amount}\"\n",
    "\n",
    "def withdraw(balance, amount):\n",
    "    if amount > balance:\n",
    "        raise InsufficientFundsError(balance, amount)\n",
    "    else:\n",
    "        balance -= amount\n",
    "        print(\"Withdrawal successful. Remaining balance:\", balance)\n",
    "\n",
    "try:\n",
    "    account_balance = 1000\n",
    "    withdrawal_amount = 1500\n",
    "    withdraw(account_balance, withdrawal_amount)\n",
    "except InsufficientFundsError as e:\n",
    "    print(\"Error:\", e.message)\n"
   ]
  },
  {
   "cell_type": "code",
   "execution_count": null,
   "id": "5dee6c7c-a322-4ef6-830c-f243b28e9db2",
   "metadata": {},
   "outputs": [],
   "source": []
  },
  {
   "cell_type": "code",
   "execution_count": null,
   "id": "6674d686-0680-4efd-bcf6-779d44aa5706",
   "metadata": {},
   "outputs": [],
   "source": [
    "#Q6.create a custom exception class use this class to handle an exception"
   ]
  },
  {
   "cell_type": "code",
   "execution_count": 16,
   "id": "e1954838-7546-4b03-a006-08954676f89b",
   "metadata": {},
   "outputs": [
    {
     "name": "stdout",
     "output_type": "stream",
     "text": [
      "Error occurred: CustomError: Negative data values are not allowed\n"
     ]
    }
   ],
   "source": [
    "class CustomError(Exception):\n",
    "    def __init__(self, value):\n",
    "        self.value = value\n",
    "\n",
    "    def __str__(self):\n",
    "        return f\"CustomError: {self.value}\"\n",
    "\n",
    "def process_data(data):\n",
    "    if data < 0:\n",
    "        raise CustomError(\"Negative data values are not allowed\")\n",
    "    return data * 2\n",
    "\n",
    "try:\n",
    "    input_data = -5\n",
    "    result = process_data(input_data)\n",
    "    print(\"Processed result:\", result)\n",
    "except CustomError as ce:\n",
    "    print(\"Error occurred:\", ce)\n"
   ]
  },
  {
   "cell_type": "code",
   "execution_count": null,
   "id": "18a9405c-30b8-480c-83b8-e1c823140533",
   "metadata": {},
   "outputs": [],
   "source": []
  }
 ],
 "metadata": {
  "kernelspec": {
   "display_name": "Python 3 (ipykernel)",
   "language": "python",
   "name": "python3"
  },
  "language_info": {
   "codemirror_mode": {
    "name": "ipython",
    "version": 3
   },
   "file_extension": ".py",
   "mimetype": "text/x-python",
   "name": "python",
   "nbconvert_exporter": "python",
   "pygments_lexer": "ipython3",
   "version": "3.10.8"
  }
 },
 "nbformat": 4,
 "nbformat_minor": 5
}
